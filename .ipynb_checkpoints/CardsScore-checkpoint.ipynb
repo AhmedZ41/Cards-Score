{
 "cells": [
  {
   "cell_type": "code",
   "execution_count": null,
   "id": "280ef9de-ee6e-44fd-845e-555180f58cf8",
   "metadata": {},
   "outputs": [],
   "source": []
  }
 ],
 "metadata": {
  "kernelspec": {
   "display_name": "Python 3 (ipykernel)",
   "language": "python",
   "name": "python3"
  },
  "language_info": {
   "codemirror_mode": {
    "name": "ipython",
    "version": 3
   },
   "file_extension": ".py",
   "mimetype": "text/x-python",
   "name": "python",
   "nbconvert_exporter": "python",
   "pygments_lexer": "ipython3",
   "version": "3.13.3"
  }
 },
 "nbformat": 4,
 "nbformat_minor": 5
}
